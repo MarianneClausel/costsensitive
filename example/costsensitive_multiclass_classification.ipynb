{
 "cells": [
  {
   "cell_type": "markdown",
   "metadata": {},
   "source": [
    "# Cost-Sensitive Multi-Class Classification\n",
    "** *\n",
    "\n",
    "This IPython notebook illustrates the usage of the [costsensitive](http://www.github.com/david-cortes/costsensitive) Python pacakge for cost-sensitive multi-class classification through an applied example using the [Covertype Data Set](https://archive.ics.uci.edu/ml/datasets/covertype) - a public dataset for multi-class classification - converted into cost-sensitive classification by assigning to it different costs for different types of classification errors and features of each observation.\n",
    "\n",
    "** Small note: if the TOC here is not clickable or the math symbols don't show properly, try visualizing this same notebook from nbviewer following [this link](http://nbviewer.jupyter.org/github/david-cortes/costsensitive/blob/master/example/costsensitive_multiclass_classification.ipynb). **\n",
    "\n",
    "** *\n",
    "### Sections\n",
    "[1. Problem description](#p1)\n",
    "\n",
    "[2. The data set](#p2)\n",
    "\n",
    "[3. Different costs for different types of errors](#p3)\n",
    "\n",
    "[4. Fitting cost-sensitive classifiers](#p4)\n",
    "\n",
    "[5. Results side by side](#p5)\n",
    "\n",
    "[6. References](#p6)"
   ]
  },
  {
   "cell_type": "markdown",
   "metadata": {},
   "source": [
    "** *\n",
    "<a id=\"p1\"></a>\n",
    "## 1. Problem description\n",
    "\n",
    "Cost-sensitive multi-class classification is a problem related to multi-class classification, in which instead of there being one or more \"correct\" labels for each observation, there is an associated vector of costs for labeling each observation under each label, and the goal is to build a classifier that predicts the class with the minimum expected cost. \n",
    "\n",
    "It is a more general problem that classification with costs defined for its confusion matrix (i.e. specifying how costly it is for each label to predict each other different label) or multi-class classification with observation weights (i.e. misclassifying each observation has a different cost, but this cost is the same regardless of the true and the predicted class), as here each observation can have a different cost for each type of misprediction. \n",
    "\n",
    "When the costs are in the form of $C = \\{\\textbf{1}I(f(x) = y)\\}$ (that is, the cost for predicting the right labels is zero, while the cost for predicting a wrong label is one), the problem is equivalent to maximizing multiclass classification accuracy. \n",
    "\n",
    "The aim of the algorithms here is to reduce this problem to binary classification with sample weights, which is a more well-studied problem for which many good algorithms are available. A further reduction to binary classification without sample weights is possible through the costing-proportionate rejection-sampling method, also implemented here (see [Section 3](#p3)).\n",
    "\n",
    "The problem requires the following data:\n",
    "* A feature matrix of size $(n\\_{observations}, n\\_{features})$ with the covariates or features of each observation.\n",
    "* A cost matrix of size $(n\\_observations, n\\_classes)$ **with non-negative numbers** specifying how much would it **cost** to choose each class/label for each observation (meaning: **the higher, the worse**)."
   ]
  },
  {
   "cell_type": "markdown",
   "metadata": {},
   "source": [
    "** *\n",
    "<a id=\"p2\"></a>\n",
    "## 2. The data set\n",
    "\n",
    "The example here will use the Covertype dataset from UCI, which contains data about forest cover types (7 different classes) for patches of land in a forest, and attributes about it such as the distance to some landmarks, shade, elevation, etc.\n",
    "\n",
    "The dataset - along with more information about it - is available in the UCI webpage:\n",
    "[https://archive.ics.uci.edu/ml/datasets/covertype](https://archive.ics.uci.edu/ml/datasets/covertype)\n",
    "\n",
    "Description taken from the link above:\n",
    "> **Data Set Information:**\n",
    "> \n",
    "> Predicting forest cover type from cartographic variables only (no remotely sensed data). The actual forest cover type for a given observation (30 x 30 meter cell) was determined from US Forest Service (USFS) Region 2 Resource Information System (RIS) data. Independent variables were derived from data originally obtained from US Geological Survey (USGS) and USFS data. Data is in raw form (not scaled) and contains binary (0 or 1) columns of data for qualitative independent variables (wilderness areas and soil types). \n",
    "> \n",
    "> This study area includes four wilderness areas located in the Roosevelt National Forest of northern Colorado. These areas represent forests with minimal human-caused disturbances, so that existing forest cover types are more a result of ecological processes rather than forest management practices. \n",
    "> \n",
    "> Some background information for these four wilderness areas: Neota (area 2) probably has the highest mean elevational value of the 4 wilderness areas. Rawah (area 1) and Comanche Peak (area 3) would have a lower mean elevational value, while Cache la Poudre (area 4) would have the lowest mean elevational value. \n",
    "> \n",
    "> As for primary major tree species in these areas, Neota would have spruce/fir (type 1), while Rawah and Comanche Peak would probably have lodgepole pine (type 2) as their primary species, followed by spruce/fir and aspen (type 5). Cache la Poudre would tend to have Ponderosa pine (type 3), Douglas-fir (type 6), and cottonwood/willow (type 4). \n",
    "> \n",
    "> The Rawah and Comanche Peak areas would tend to be more typical of the overall dataset than either the Neota or Cache la Poudre, due to their assortment of tree species and range of predictive variable values (elevation, etc.) Cache la Poudre would probably be more unique than the others, due to its relatively low elevation range and species composition.\n",
    "\n",
    "\n",
    "> **Attribute Information:**\n",
    "> \n",
    "> Given is the attribute name, attribute type, the measurement unit and a brief description. The forest cover type is the classification problem. The order of this listing corresponds to the order of numerals along the rows of the database. \n",
    "> \n",
    "> Name / Data Type / Measurement / Description \n",
    "> \n",
    "> * Elevation / quantitative /meters / Elevation in meters\n",
    "> * Aspect / quantitative / azimuth / Aspect in degrees azimuth\n",
    "> * Slope / quantitative / degrees / Slope in degrees\n",
    "> * Horizontal_Distance_To_Hydrology / quantitative / meters / Horz Dist to nearest surface water features \n",
    "> * Vertical_Distance_To_Hydrology / quantitative / meters / Vert Dist to nearest surface water features \n",
    "> * Horizontal_Distance_To_Roadways / quantitative / meters / Horz Dist to nearest roadway \n",
    "> * Hillshade_9am / quantitative / 0 to 255 index / Hillshade index at 9am, summer solstice \n",
    "> * Hillshade_Noon / quantitative / 0 to 255 index / Hillshade index at noon, summer soltice \n",
    "> * Hillshade_3pm / quantitative / 0 to 255 index / Hillshade index at 3pm, summer solstice \n",
    "> * Horizontal_Distance_To_Fire_Points / quantitative / meters / Horz Dist to nearest wildfire ignition points \n",
    "> * Wilderness_Area (4 binary columns) / qualitative / 0 (absence) or 1 (presence) / Wilderness area designation \n",
    "> * Soil_Type (40 binary columns) / qualitative / 0 (absence) or 1 (presence) / Soil Type designation \n",
    "> * Cover_Type (7 types) / integer / 1 to 7 / Forest Cover Type designation\n",
    "\n",
    "***\n",
    "Loading the data:"
   ]
  },
  {
   "cell_type": "code",
   "execution_count": 1,
   "metadata": {},
   "outputs": [
    {
     "name": "stdout",
     "output_type": "stream",
     "text": [
      "(581012, 54)\n",
      "(581012,)\n",
      "(581012, 7)\n"
     ]
    }
   ],
   "source": [
    "import pandas as pd, numpy as np\n",
    "from sklearn.preprocessing import MultiLabelBinarizer\n",
    "\n",
    "cov_type=pd.read_csv('covtype.data',header=None)\n",
    "cov_type=cov_type.as_matrix()\n",
    "X=(cov_type[:,:cov_type.shape[1]-1]).astype('float64')\n",
    "y=cov_type[:,cov_type.shape[1]-1]-1\n",
    "\n",
    "ml=MultiLabelBinarizer()\n",
    "y_onehot=ml.fit_transform(y.reshape(-1,1))\n",
    "print(X.shape)\n",
    "print(y.shape)\n",
    "print(y_onehot.shape)"
   ]
  },
  {
   "cell_type": "markdown",
   "metadata": {},
   "source": [
    "** *\n",
    "<a id=\"p3\"></a>\n",
    "## 3. Different costs for different types of errors\n",
    "\n",
    "This dataset is meant to benchmark classifiers that aim to minimize classification error. However, the goal in cost-sensitive classification is not to minimize classification error, but rather some measure of cost in which each choice of label or class for each observation is associated with its own cost.\n",
    "\n",
    "In order to conver the problem into cost-sensitive classification, I will:\n",
    "* Create an  error-cost matrix by assign different costs for each error type in the confusion matrix.\n",
    "* Amplify or shrink all the costs for an observation according to the values of some of its attributes.\n",
    "\n",
    "** *\n",
    "Creating an arbitrary error-cost matrix - the entries at each cell $({row}_{a}, {column}_{b})$  specify how costly it should be to predict class $a$ when the true class is $b$:"
   ]
  },
  {
   "cell_type": "code",
   "execution_count": 2,
   "metadata": {},
   "outputs": [
    {
     "data": {
      "text/html": [
       "<div>\n",
       "<style>\n",
       "    .dataframe thead tr:only-child th {\n",
       "        text-align: right;\n",
       "    }\n",
       "\n",
       "    .dataframe thead th {\n",
       "        text-align: left;\n",
       "    }\n",
       "\n",
       "    .dataframe tbody tr th {\n",
       "        vertical-align: top;\n",
       "    }\n",
       "</style>\n",
       "<table border=\"1\" class=\"dataframe\">\n",
       "  <thead>\n",
       "    <tr style=\"text-align: right;\">\n",
       "      <th></th>\n",
       "      <th>0</th>\n",
       "      <th>1</th>\n",
       "      <th>2</th>\n",
       "      <th>3</th>\n",
       "      <th>4</th>\n",
       "      <th>5</th>\n",
       "      <th>6</th>\n",
       "    </tr>\n",
       "  </thead>\n",
       "  <tbody>\n",
       "    <tr>\n",
       "      <th>0</th>\n",
       "      <td>0.000000</td>\n",
       "      <td>2.698029</td>\n",
       "      <td>6.370626</td>\n",
       "      <td>0.000572</td>\n",
       "      <td>1.800064</td>\n",
       "      <td>0.793548</td>\n",
       "      <td>0.484419</td>\n",
       "    </tr>\n",
       "    <tr>\n",
       "      <th>1</th>\n",
       "      <td>2.698029</td>\n",
       "      <td>0.000000</td>\n",
       "      <td>1.030573</td>\n",
       "      <td>2.119882</td>\n",
       "      <td>2.527263</td>\n",
       "      <td>3.869799</td>\n",
       "      <td>2.716697</td>\n",
       "    </tr>\n",
       "    <tr>\n",
       "      <th>2</th>\n",
       "      <td>6.370626</td>\n",
       "      <td>1.030573</td>\n",
       "      <td>0.000000</td>\n",
       "      <td>5.779399</td>\n",
       "      <td>1.143622</td>\n",
       "      <td>10.523486</td>\n",
       "      <td>0.138848</td>\n",
       "    </tr>\n",
       "    <tr>\n",
       "      <th>3</th>\n",
       "      <td>0.000572</td>\n",
       "      <td>2.119882</td>\n",
       "      <td>5.779399</td>\n",
       "      <td>0.000000</td>\n",
       "      <td>5.550402</td>\n",
       "      <td>2.700455</td>\n",
       "      <td>4.090037</td>\n",
       "    </tr>\n",
       "    <tr>\n",
       "      <th>4</th>\n",
       "      <td>1.800064</td>\n",
       "      <td>2.527263</td>\n",
       "      <td>1.143622</td>\n",
       "      <td>5.550402</td>\n",
       "      <td>0.000000</td>\n",
       "      <td>0.756365</td>\n",
       "      <td>1.103866</td>\n",
       "    </tr>\n",
       "    <tr>\n",
       "      <th>5</th>\n",
       "      <td>0.793548</td>\n",
       "      <td>3.869799</td>\n",
       "      <td>10.523486</td>\n",
       "      <td>2.700455</td>\n",
       "      <td>0.756365</td>\n",
       "      <td>0.000000</td>\n",
       "      <td>8.065839</td>\n",
       "    </tr>\n",
       "    <tr>\n",
       "      <th>6</th>\n",
       "      <td>0.484419</td>\n",
       "      <td>2.716697</td>\n",
       "      <td>0.138848</td>\n",
       "      <td>4.090037</td>\n",
       "      <td>1.103866</td>\n",
       "      <td>8.065839</td>\n",
       "      <td>0.000000</td>\n",
       "    </tr>\n",
       "  </tbody>\n",
       "</table>\n",
       "</div>"
      ],
      "text/plain": [
       "          0         1          2         3         4          5         6\n",
       "0  0.000000  2.698029   6.370626  0.000572  1.800064   0.793548  0.484419\n",
       "1  2.698029  0.000000   1.030573  2.119882  2.527263   3.869799  2.716697\n",
       "2  6.370626  1.030573   0.000000  5.779399  1.143622  10.523486  0.138848\n",
       "3  0.000572  2.119882   5.779399  0.000000  5.550402   2.700455  4.090037\n",
       "4  1.800064  2.527263   1.143622  5.550402  0.000000   0.756365  1.103866\n",
       "5  0.793548  3.869799  10.523486  2.700455  0.756365   0.000000  8.065839\n",
       "6  0.484419  2.716697   0.138848  4.090037  1.103866   8.065839  0.000000"
      ]
     },
     "execution_count": 2,
     "metadata": {},
     "output_type": "execute_result"
    }
   ],
   "source": [
    "import pandas as pd, numpy as np\n",
    "\n",
    "n_classes=y_onehot.shape[1]\n",
    "\n",
    "missclassif_cost_matrix=np.zeros((n_classes,n_classes))\n",
    "np.random.seed(1)\n",
    "for i in range(n_classes-1):\n",
    "    for j in range(i+1,n_classes):\n",
    "        cost_missclassif=np.random.gamma(1,5)\n",
    "        missclassif_cost_matrix[i,j]=cost_missclassif\n",
    "        missclassif_cost_matrix[j,i]=cost_missclassif\n",
    "        \n",
    "pd.DataFrame(missclassif_cost_matrix)"
   ]
  },
  {
   "cell_type": "markdown",
   "metadata": {},
   "source": [
    "From this, we can now define the cost matrix for each example to be the row of the error-cost matrix above corresponding to the class of each observation in the original dataset:"
   ]
  },
  {
   "cell_type": "code",
   "execution_count": 3,
   "metadata": {},
   "outputs": [],
   "source": [
    "C=np.array([missclassif_cost_matrix[i] for i in y])"
   ]
  },
  {
   "cell_type": "markdown",
   "metadata": {},
   "source": [
    "The weights can be altered furthered according to features of the observations - meaning that it's more important to predict correctly (or less costly) for some types of observations than for others:"
   ]
  },
  {
   "cell_type": "code",
   "execution_count": 4,
   "metadata": {},
   "outputs": [
    {
     "data": {
      "text/html": [
       "<div>\n",
       "<style>\n",
       "    .dataframe thead tr:only-child th {\n",
       "        text-align: right;\n",
       "    }\n",
       "\n",
       "    .dataframe thead th {\n",
       "        text-align: left;\n",
       "    }\n",
       "\n",
       "    .dataframe tbody tr th {\n",
       "        vertical-align: top;\n",
       "    }\n",
       "</style>\n",
       "<table border=\"1\" class=\"dataframe\">\n",
       "  <thead>\n",
       "    <tr style=\"text-align: right;\">\n",
       "      <th></th>\n",
       "      <th>0</th>\n",
       "      <th>1</th>\n",
       "      <th>2</th>\n",
       "      <th>3</th>\n",
       "      <th>4</th>\n",
       "      <th>5</th>\n",
       "      <th>6</th>\n",
       "    </tr>\n",
       "  </thead>\n",
       "  <tbody>\n",
       "    <tr>\n",
       "      <th>0</th>\n",
       "      <td>5.651300</td>\n",
       "      <td>7.934341</td>\n",
       "      <td>3.590401</td>\n",
       "      <td>17.425486</td>\n",
       "      <td>0.000000</td>\n",
       "      <td>2.374607</td>\n",
       "      <td>3.465588</td>\n",
       "    </tr>\n",
       "    <tr>\n",
       "      <th>1</th>\n",
       "      <td>5.602698</td>\n",
       "      <td>7.866105</td>\n",
       "      <td>3.559524</td>\n",
       "      <td>17.275625</td>\n",
       "      <td>0.000000</td>\n",
       "      <td>2.354185</td>\n",
       "      <td>3.435783</td>\n",
       "    </tr>\n",
       "    <tr>\n",
       "      <th>2</th>\n",
       "      <td>8.257318</td>\n",
       "      <td>0.000000</td>\n",
       "      <td>3.154069</td>\n",
       "      <td>6.487900</td>\n",
       "      <td>7.734688</td>\n",
       "      <td>11.843519</td>\n",
       "      <td>8.314451</td>\n",
       "    </tr>\n",
       "    <tr>\n",
       "      <th>3</th>\n",
       "      <td>8.378730</td>\n",
       "      <td>0.000000</td>\n",
       "      <td>3.200445</td>\n",
       "      <td>6.583295</td>\n",
       "      <td>7.848414</td>\n",
       "      <td>12.017660</td>\n",
       "      <td>8.436702</td>\n",
       "    </tr>\n",
       "    <tr>\n",
       "      <th>4</th>\n",
       "      <td>5.554997</td>\n",
       "      <td>7.799133</td>\n",
       "      <td>3.529218</td>\n",
       "      <td>17.128539</td>\n",
       "      <td>0.000000</td>\n",
       "      <td>2.334141</td>\n",
       "      <td>3.406531</td>\n",
       "    </tr>\n",
       "  </tbody>\n",
       "</table>\n",
       "</div>"
      ],
      "text/plain": [
       "          0         1         2          3         4          5         6\n",
       "0  5.651300  7.934341  3.590401  17.425486  0.000000   2.374607  3.465588\n",
       "1  5.602698  7.866105  3.559524  17.275625  0.000000   2.354185  3.435783\n",
       "2  8.257318  0.000000  3.154069   6.487900  7.734688  11.843519  8.314451\n",
       "3  8.378730  0.000000  3.200445   6.583295  7.848414  12.017660  8.436702\n",
       "4  5.554997  7.799133  3.529218  17.128539  0.000000   2.334141  3.406531"
      ]
     },
     "execution_count": 4,
     "metadata": {},
     "output_type": "execute_result"
    }
   ],
   "source": [
    "C=C*(X[:,9]/2000).reshape(-1,1)\n",
    "C=C/(1+X[:,22]*20).reshape(-1,1)\n",
    "C=C/(1+X[:,30]*7).reshape(-1,1)\n",
    "C=C*(1+X[:,41]*3).reshape(-1,1)\n",
    "C=C*(1+X[:,47]*8).reshape(-1,1)\n",
    "\n",
    "pd.DataFrame(C).head()"
   ]
  },
  {
   "cell_type": "markdown",
   "metadata": {},
   "source": [
    "** *\n",
    "<a id=\"p4\"></a>\n",
    "## 4. Fitting cost-sensitive classifiers\n",
    "\n",
    "The algorithms implemented here are reduction methods that turn the problem into a series of importance-weighted binary classification sub-problems - for details see the papers in the [references section](#p6).\n",
    "\n",
    "Here the examples will all use **Logistic Regression** from scikit-learn as the base classifier for the subproblems, except for regression-based One-Vs-Rest which will use Linear Regression with L2 regularization (a.k.a. Ridge). The algorithms will nevertheless work with any other classifier having a scikit-learn-like API (not necessarily scikit-learn-compatible) and supporting sample weights, such as xgboost. The requirements for a classifier to work here are:\n",
    "* A fit method of the form `classifier.fit(X, y, sample_weights=w)`.\n",
    "* A predict method of the form `classifier.predict(X)`.\n",
    "* (Optionally) for some functionality and some methods, a `classifier.predict_proba(X)` method.\n",
    "* For `RegressionOneVsRest`, an object with `fit` and `predict` that would perform regression rather than classification.\n",
    "\n",
    "(Where `X`, `y`, and `w` are numpy arrays.)\n",
    "\n",
    "The main idea behind them is to compare the predictions of different classifiers comparing one or more classes against another or several other classes, with each subproblem getting observation weights that would make the final result efficient or optimal in some way in relationship to the subproblems' error or regret.\n",
    "\n",
    "Note that the implementations here are all 'multi oracle call' rather than 'single oracle' - that is, they construct a series of subproblems instead of a single classification problem where the indices of the classes being compared are additional features. These tend to work with a broader class of classifiers and to provide more consistent results across tasks.\n",
    "\n",
    "The package also contains some simple heurstics that don't enjoy theoretical bounds on their regret but which can do very well in practice, such as One-Vs-Rest setting the weights to be the absolute difference between the costs of the  class compared against and the minimum cost of any other class (perhaps the most obvious algorithm that one would try for this problem), or All-Pairs with the sample weights being the absolute difference in cost between each two classes.\n",
    "\n",
    "Note that One-Vs-Rest classification implies solving one classification subproblem per class, while All-Pairs implies solving $\\frac{m(m-1)}{2}$ subproblems (where $m$ is the number of classes), so it doesn't scale well to problems with many classes.\n",
    "\n",
    "All the algorithms here contain a `fit` and a `predict` method, with some having an additional `decision_function`. They are all documented internally through docstrings (e.g. you can try `help(WeightedAllPairs)`, `help(WeightedAllPairs.fit)`, `help(WeightedAllPairs.predict)`, `help(WeightedAllPairs.decision_function`, etc.).\n",
    "***\n",
    "Generating a train-test split and standardizing the data:"
   ]
  },
  {
   "cell_type": "code",
   "execution_count": 5,
   "metadata": {},
   "outputs": [],
   "source": [
    "from sklearn.model_selection import train_test_split\n",
    "from sklearn.preprocessing import StandardScaler\n",
    "\n",
    "X_train, X_test, C_train, C_test, y_train, y_test = train_test_split(X, C, y, test_size=.5, random_state=1)\n",
    "scaler=StandardScaler()\n",
    "scaler.fit(X_train)\n",
    "X_train = scaler.transform(X_train)\n",
    "X_test = scaler.transform(X_test)"
   ]
  },
  {
   "cell_type": "markdown",
   "metadata": {},
   "source": [
    "Fitting the classifiers and tracking test set results:"
   ]
  },
  {
   "cell_type": "code",
   "execution_count": 6,
   "metadata": {},
   "outputs": [],
   "source": [
    "from costsensitive import WeightedAllPairs, WeightedOneVsRest, RegressionOneVsRest, \\\n",
    "                            FilterTree, CostProportionateClassifier\n",
    "import pandas as pd, numpy as np\n",
    "from sklearn.linear_model import LogisticRegression, Ridge\n",
    "\n",
    "### Keeping track of the results for later\n",
    "name_algorithm=list()\n",
    "test_accuracy=list()\n",
    "test_cost=list()\n",
    "\n",
    "################ Note ################\n",
    "### These reduction methods require classifiers supporting sample weights.\n",
    "### If your favorite classifier doesn't, you can convert it to\n",
    "### an importance-weighted classifier like this:\n",
    "ClassifierSupportingSampleWeights = CostProportionateClassifier(LogisticRegression())\n",
    "### (replace LogistRegression for your classifier)\n",
    "\n",
    "#### Benchmark : Logistic Regression with no weights\n",
    "lr = LogisticRegression(multi_class='multinomial', solver='lbfgs')\n",
    "lr.fit(X_train, y_train)\n",
    "preds_lr = lr.predict(X_test)\n",
    "name_algorithm.append(\"Multinomial Loss\")\n",
    "test_accuracy.append(np.mean(preds_lr==y_test))\n",
    "test_cost.append(C_test[np.arange(C_test.shape[0]), preds_lr].sum())"
   ]
  },
  {
   "cell_type": "code",
   "execution_count": 7,
   "metadata": {},
   "outputs": [],
   "source": [
    "#### 1. Weighted All-Pairs as described in \"Error limiting reductions between classification tasks.\"\n",
    "costsensitive_WAP = WeightedAllPairs(LogisticRegression(solver='lbfgs'), weigh_by_cost_diff=False)\n",
    "costsensitive_WAP.fit(X_train, C_train)\n",
    "preds_WAP = costsensitive_WAP.predict(X_test, method='most-wins')\n",
    "name_algorithm.append(\"Weighted All-Pairs (original)\")\n",
    "test_accuracy.append(np.mean(preds_WAP==y_test))\n",
    "test_cost.append(C_test[np.arange(C_test.shape[0]), preds_WAP].sum())"
   ]
  },
  {
   "cell_type": "code",
   "execution_count": 8,
   "metadata": {
    "collapsed": true
   },
   "outputs": [],
   "source": [
    "#### 2. Weighted All-Pairs - simpler cost-weighting schema\n",
    "costsensitive_WAP2 = WeightedAllPairs(LogisticRegression(solver='lbfgs'), weigh_by_cost_diff=True)\n",
    "costsensitive_WAP2.fit(X_train, C_train)\n",
    "preds_WAP2 = costsensitive_WAP2.predict(X_test, method='most-wins')\n",
    "name_algorithm.append(\"Weighted All-Pairs (Simple importance weights)\")\n",
    "test_accuracy.append(np.mean(preds_WAP2==y_test))\n",
    "test_cost.append(C_test[np.arange(C_test.shape[0]), preds_WAP2].sum())"
   ]
  },
  {
   "cell_type": "code",
   "execution_count": 9,
   "metadata": {
    "collapsed": true
   },
   "outputs": [],
   "source": [
    "#### 3. Weighted All-Pairs with weighted vote\n",
    "costsensitive_WAP3 = WeightedAllPairs(LogisticRegression(solver='lbfgs'), weigh_by_cost_diff=False)\n",
    "costsensitive_WAP3.fit(X_train, C_train)\n",
    "preds_WAP3 = costsensitive_WAP3.predict(X_test, method='goodness')\n",
    "name_algorithm.append(\"Weighted All-Pairs (Weighted Vote)\")\n",
    "test_accuracy.append(np.mean(preds_WAP3==y_test))\n",
    "test_cost.append(C_test[np.arange(C_test.shape[0]), preds_WAP3].sum())"
   ]
  },
  {
   "cell_type": "code",
   "execution_count": 10,
   "metadata": {
    "collapsed": true
   },
   "outputs": [],
   "source": [
    "#### 4. Weighted All-Pairs with weighted vote and simpler cost-weighting schema\n",
    "costsensitive_WAP4 = WeightedAllPairs(LogisticRegression(solver='lbfgs'), weigh_by_cost_diff=True)\n",
    "costsensitive_WAP4.fit(X_train, C_train)\n",
    "preds_WAP4 = costsensitive_WAP4.predict(X_test, method='goodness')\n",
    "name_algorithm.append(\"Weighted All-Pairs (Weighted Vote, Simple imp. weights)\")\n",
    "test_accuracy.append(np.mean(preds_WAP4==y_test))\n",
    "test_cost.append(C_test[np.arange(C_test.shape[0]), preds_WAP4].sum())"
   ]
  },
  {
   "cell_type": "code",
   "execution_count": 11,
   "metadata": {},
   "outputs": [],
   "source": [
    "#### 5. One-Vs-Rest, simple cost-weighting schema\n",
    "costsensitive_OVR_simple = WeightedOneVsRest(LogisticRegression(solver='lbfgs'), weight_simple_diff=True)\n",
    "costsensitive_OVR_simple.fit(X_train, C_train)\n",
    "preds_OVR_simple = costsensitive_OVR_simple.predict(X_test)\n",
    "name_algorithm.append(\"Weighted One-Vs-Rest\")\n",
    "test_accuracy.append(np.mean(preds_OVR_simple==y_test))\n",
    "test_cost.append(C_test[np.arange(C_test.shape[0]), preds_OVR_simple].sum())"
   ]
  },
  {
   "cell_type": "code",
   "execution_count": 12,
   "metadata": {
    "collapsed": true
   },
   "outputs": [],
   "source": [
    "#### 6. One-Vs-Rest, cost-weighting schema from WAP\n",
    "costsensitive_OVR = WeightedOneVsRest(LogisticRegression(solver='lbfgs'), weight_simple_diff=False)\n",
    "costsensitive_OVR.fit(X_train, C_train)\n",
    "preds_OVR = costsensitive_OVR.predict(X_test)\n",
    "name_algorithm.append(\"Weighted One-Vs-Rest (WAP weighting technique)\")\n",
    "test_accuracy.append(np.mean(preds_OVR==y_test))\n",
    "test_cost.append(C_test[np.arange(C_test.shape[0]), preds_OVR].sum())"
   ]
  },
  {
   "cell_type": "code",
   "execution_count": 13,
   "metadata": {
    "collapsed": true
   },
   "outputs": [],
   "source": [
    "#### 7. One-Vs-Rest, regression variant\n",
    "costsensitive_ROVR = RegressionOneVsRest(Ridge(1))\n",
    "costsensitive_ROVR.fit(X_train, C_train)\n",
    "preds_ROVR = costsensitive_ROVR.predict(X_test)\n",
    "name_algorithm.append(\"Regression One-Vs-Rest\")\n",
    "test_accuracy.append(np.mean(preds_ROVR==y_test))\n",
    "test_cost.append(C_test[np.arange(C_test.shape[0]), preds_ROVR].sum())"
   ]
  },
  {
   "cell_type": "code",
   "execution_count": 14,
   "metadata": {
    "collapsed": true
   },
   "outputs": [],
   "source": [
    "#### 8. Filter-Tree\n",
    "costsensitive_FT = FilterTree(LogisticRegression(solver='lbfgs'))\n",
    "costsensitive_FT.fit(X_train, C_train)\n",
    "preds_FT = costsensitive_FT.predict(X_test)\n",
    "name_algorithm.append(\"Filter-Tree\")\n",
    "test_accuracy.append(np.mean(preds_FT==y_test))\n",
    "test_cost.append(C_test[np.arange(C_test.shape[0]), preds_FT].sum())"
   ]
  },
  {
   "cell_type": "markdown",
   "metadata": {},
   "source": [
    "** *\n",
    "<a id=\"p5\"></a>\n",
    "## 5. Results side by side"
   ]
  },
  {
   "cell_type": "code",
   "execution_count": 15,
   "metadata": {},
   "outputs": [
    {
     "data": {
      "text/html": [
       "<div>\n",
       "<style>\n",
       "    .dataframe thead tr:only-child th {\n",
       "        text-align: right;\n",
       "    }\n",
       "\n",
       "    .dataframe thead th {\n",
       "        text-align: left;\n",
       "    }\n",
       "\n",
       "    .dataframe tbody tr th {\n",
       "        vertical-align: top;\n",
       "    }\n",
       "</style>\n",
       "<table border=\"1\" class=\"dataframe\">\n",
       "  <thead>\n",
       "    <tr style=\"text-align: right;\">\n",
       "      <th></th>\n",
       "      <th>Total Cost</th>\n",
       "      <th>Accuracy</th>\n",
       "    </tr>\n",
       "    <tr>\n",
       "      <th>Method</th>\n",
       "      <th></th>\n",
       "      <th></th>\n",
       "    </tr>\n",
       "  </thead>\n",
       "  <tbody>\n",
       "    <tr>\n",
       "      <th>Multinomial Loss</th>\n",
       "      <td>207937.934777</td>\n",
       "      <td>0.725011</td>\n",
       "    </tr>\n",
       "    <tr>\n",
       "      <th>Weighted All-Pairs (original)</th>\n",
       "      <td>223965.631301</td>\n",
       "      <td>0.520444</td>\n",
       "    </tr>\n",
       "    <tr>\n",
       "      <th>Weighted All-Pairs (Simple importance weights)</th>\n",
       "      <td>186106.555995</td>\n",
       "      <td>0.461089</td>\n",
       "    </tr>\n",
       "    <tr>\n",
       "      <th>Weighted All-Pairs (Weighted Vote)</th>\n",
       "      <td>190914.941553</td>\n",
       "      <td>0.493618</td>\n",
       "    </tr>\n",
       "    <tr>\n",
       "      <th>Weighted All-Pairs (Weighted Vote, Simple imp. weights)</th>\n",
       "      <td>205443.837138</td>\n",
       "      <td>0.411923</td>\n",
       "    </tr>\n",
       "    <tr>\n",
       "      <th>Weighted One-Vs-Rest</th>\n",
       "      <td>319508.482779</td>\n",
       "      <td>0.527442</td>\n",
       "    </tr>\n",
       "    <tr>\n",
       "      <th>Weighted One-Vs-Rest (WAP weighting technique)</th>\n",
       "      <td>327994.726305</td>\n",
       "      <td>0.531125</td>\n",
       "    </tr>\n",
       "    <tr>\n",
       "      <th>Regression One-Vs-Rest</th>\n",
       "      <td>203183.597215</td>\n",
       "      <td>0.475460</td>\n",
       "    </tr>\n",
       "    <tr>\n",
       "      <th>Filter-Tree</th>\n",
       "      <td>375833.578406</td>\n",
       "      <td>0.201662</td>\n",
       "    </tr>\n",
       "  </tbody>\n",
       "</table>\n",
       "</div>"
      ],
      "text/plain": [
       "                                                       Total Cost  Accuracy\n",
       "Method                                                                     \n",
       "Multinomial Loss                                    207937.934777  0.725011\n",
       "Weighted All-Pairs (original)                       223965.631301  0.520444\n",
       "Weighted All-Pairs (Simple importance weights)      186106.555995  0.461089\n",
       "Weighted All-Pairs (Weighted Vote)                  190914.941553  0.493618\n",
       "Weighted All-Pairs (Weighted Vote, Simple imp. ...  205443.837138  0.411923\n",
       "Weighted One-Vs-Rest                                319508.482779  0.527442\n",
       "Weighted One-Vs-Rest (WAP weighting technique)      327994.726305  0.531125\n",
       "Regression One-Vs-Rest                              203183.597215  0.475460\n",
       "Filter-Tree                                         375833.578406  0.201662"
      ]
     },
     "execution_count": 15,
     "metadata": {},
     "output_type": "execute_result"
    }
   ],
   "source": [
    "import pandas as pd\n",
    "\n",
    "results = pd.DataFrame({\n",
    "    'Method' : name_algorithm,\n",
    "    'Accuracy' : test_accuracy,\n",
    "    'Total Cost' : test_cost\n",
    "})\n",
    "results=results[['Method', 'Total Cost', 'Accuracy']]\n",
    "results.set_index('Method')"
   ]
  },
  {
   "cell_type": "code",
   "execution_count": 16,
   "metadata": {},
   "outputs": [
    {
     "data": {
      "image/png": "[encoded data removed]",
      "text/plain": [
       "<matplotlib.figure.Figure at 0x7f591a5b9470>"
      ]
     },
     "metadata": {},
     "output_type": "display_data"
    }
   ],
   "source": [
    "import matplotlib.pyplot as plt\n",
    "import seaborn as sns\n",
    "%matplotlib inline\n",
    "\n",
    "fig = plt.gcf()\n",
    "fig.set_size_inches(10, 8)\n",
    "sns.barplot(x=\"Total Cost\", y=\"Method\", data=results)\n",
    "plt.title('Cost-Sensitive Classification\\nBase Classifier is Logistic Regression')\n",
    "plt.show()"
   ]
  },
  {
   "cell_type": "code",
   "execution_count": 17,
   "metadata": {},
   "outputs": [
    {
     "data": {
      "image/png": "[encoded data removed]",
      "text/plain": [
       "<matplotlib.figure.Figure at 0x7f58e49b95c0>"
      ]
     },
     "metadata": {},
     "output_type": "display_data"
    }
   ],
   "source": [
    "import matplotlib.pyplot as plt\n",
    "import seaborn as sns\n",
    "%matplotlib inline\n",
    "\n",
    "fig = plt.gcf()\n",
    "fig.set_size_inches(10, 8)\n",
    "sns.barplot(x=\"Accuracy\", y=\"Method\", data=results)\n",
    "plt.title('Cost-Sensitive Classification\\nBase Classifier is Logistic Regression')\n",
    "plt.show()"
   ]
  },
  {
   "cell_type": "markdown",
   "metadata": {},
   "source": [
    "** *\n",
    "<a id=\"p6\"></a>\n",
    "## 6. References\n",
    "\n",
    "* Beygelzimer, A., Dani, V., Hayes, T., Langford, J., & Zadrozny, B. (2005, August). Error limiting reductions between classification tasks. In Proceedings of the 22nd international conference on Machine learning (pp. 49-56). ACM.\n",
    "* Beygelzimer, A., Langford, J., & Zadrozny, B. (2008). Machine learning techniques—reductions between prediction quality metrics. In Performance Modeling and Engineering (pp. 3-28). Springer US.\n",
    "* Beygelzimer, A., Langford, J., & Ravikumar, P. (2007). Multiclass classification with filter trees. Preprint, June, 2."
   ]
  }
 ],
 "metadata": {
  "kernelspec": {
   "display_name": "Python 3",
   "language": "python",
   "name": "python3"
  },
  "language_info": {
   "codemirror_mode": {
    "name": "ipython",
    "version": 3
   },
   "file_extension": ".py",
   "mimetype": "text/x-python",
   "name": "python",
   "nbconvert_exporter": "python",
   "pygments_lexer": "ipython3",
   "version": "3.6.3"
  }
 },
 "nbformat": 4,
 "nbformat_minor": 2
}
